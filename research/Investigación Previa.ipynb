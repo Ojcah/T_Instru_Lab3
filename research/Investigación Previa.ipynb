{
 "cells": [
  {
   "cell_type": "markdown",
   "id": "993054c8-d07a-4a1f-b72e-705973e12d83",
   "metadata": {},
   "source": [
    "## Instituto Tecnológico de Costa Rica\n",
    "\n",
    "## Escuela de Ingeniería Electrónica\n",
    "### Taller de Instrumentación\n",
    "\n",
    "# Investigación Previa Lab. 3 (Parte II)\n",
    "\n",
    "### Integrantes:\n",
    "- Oscar Andrés Rojas Fonseca\n",
    "- Sharon Valverde Jiménez\n",
    "- Sebastián Vega Cerdas \n",
    "\n",
    "### Profesor:\n",
    "MSc. Ing. Kaleb Alfaro Badilla\n",
    "\n",
    "\n",
    "# Investigación Previa\n",
    "## Laboratorio 3 (Parte II)"
   ]
  },
  {
   "cell_type": "markdown",
   "id": "cc11b391-59b1-426c-872f-a5f65c00f30d",
   "metadata": {},
   "source": [
    "### 1. Investigue ¿Qué es una base de datos SQL o NoSQL? Elabore un listado de comandos básicos para una base de datos SQL.\n",
    "\n",
    "Una base de datos **SQL** (*Structured Query Language*) se trata de una base de datos relacional la cual se encuentra estructurad mediante tablas con registros (filas) y campos (columnas). Cuenta con un lenguaje que permite establecer, modificar y borrar las relaciones entre los datos, lo cual permite que las consultas de información de manera clara y sencilla, además de permitir cambios flexibles y versátiles.\n",
    "\n",
    "La base de datos **NoSQL** (*Not only SQL*) es no relacional, de manera que no agrega identificador que relacione datos con otros. En este caso los datos no se manipulan mediante tablas, se organizan mediante documentos, por lo que se agregan o modifican datos sin necesidad de hacer configuraciones, de manera que se prefieren para usos más dinámicos.\n",
    "\n",
    "<center>\n",
    "<img src=\"./images/SQLvsNoSQL.png\" width=\"600\" />\n",
    "</center>\n",
    "\n",
    "### Comandos básicos de SQL\n",
    "- *SELECT*: Especifíca con que columna se desea trabajar.\n",
    "- *LIMIT*: Limita el número de líneas que son regresadas desde la tabla.\n",
    "- *AS*: Renombra una columna o tabla al obtenerla del resultado.\n",
    "- *SELECT DISTINCT*: Elimina duplicados en líneas o columnas.\n",
    "- *COUNT*: Regresa el número de filas en una tabla.\n",
    "- *MIN*: Regresa el mínimo valor en una columna.\n",
    "- *MAX*: Regresa el máximo valor en una columna.\n",
    "- *SUM*: Regresa la suma de los valores.\n",
    "- *AVERAGE*: Calcula la media aritmética de la columna.\n",
    "- *WHERE*: Regresa las filas que cumplen con alguna condición.\n",
    "- *HAVING*: Similar a WHERE, pero condiciona lo que este no puede.\n",
    "- *AND*: Filtra filas que cumplen con varias condiciones.\n",
    "- *OR*: Filtra filas que cumplen con alguna de las condiciones.\n",
    "- *BETWEEN*: Filtra filas que se encuentran en un rango de valores.\n",
    "- *IN*: Funciona como OR de varias condiciones.\n",
    "- *LIKE*: Permite buscar patrones de texto en columnas.\n",
    "- *GROUP BY*: Permite agrupar filas basadas en valores de columna.\n",
    "- *ORDER BY*: Permite ordenar filas basadas en valores de columna.\n",
    "- *UPDATE*: Cambia los valores de celdas específicas de la tabla.\n",
    "- *ALTER TABLE*: Permite cambiar propiedades de la tabla y sus columnas.\n",
    "- *CREATE TABLE*: Crea una nueva tabla en la base de datos.\n",
    "- *INSERT INTO*: Agrega nuevas filas a la tabla.\n",
    "- *INNER JOIN*: Selecciona filas que tienen valores similares en tablas diferentes.\n",
    "- *LEFT JOIN*: Mantiene los valores de la tabla izquierda y devuelve los valores faltantes para cualquier columna de la tabla de la derecha donde el campo no encontró una coincidencia.\n",
    "- *RIGHT JOIN*: Mantiene los valores de la tabla derecha y devuelve los valores faltantes para cualquier columna de la tabla de la izquierda donde el campo no encontró una coincidencia.\n",
    "\n"
   ]
  },
  {
   "cell_type": "markdown",
   "id": "bb928920-f0e6-4530-8642-a614cbd985ba",
   "metadata": {},
   "source": [
    "### 2. Investigue y practique de manera local la creación y uso de una base de datos SQL por medio de Python/labVIEW.\n",
    "\n",
    "Es posible crear una base de datos SQL por medio de la librería **sqlite3** en python, esto sin la necesidad de acceder a un servidor por separado por lo que se utiliza el almacenamiento de la computadora en cuestión y todo sintetizado en un archivo del tipo *.db*.\n",
    "\n",
    "Parte del proceso requerido se demuestra de la siguiente manera."
   ]
  },
  {
   "cell_type": "markdown",
   "id": "985a3b2b-9d4e-44b9-b249-91328ece8296",
   "metadata": {},
   "source": [
    "## Tutorial de la investigación previa"
   ]
  },
  {
   "cell_type": "code",
   "execution_count": 1,
   "id": "4e0644b3-5d1d-4b07-93cf-d17173530e28",
   "metadata": {},
   "outputs": [],
   "source": [
    "import sqlite3\n",
    "\n",
    "con = sqlite3.connect(\"tutorial.db\")  # Creación de la conexión con la base de datos ya guardada o creada.\n",
    "cur = con.cursor()                    # Creación del cursor para el procesamiento.\n",
    "\n",
    "# Si ya existe no es necesaria la línea\n",
    "#cur.execute(\"CREATE TABLE movie(title, year, score)\") # Creación de la tabla"
   ]
  },
  {
   "cell_type": "code",
   "execution_count": 2,
   "id": "472c4b90-80cb-4854-b804-aec3b81c81d6",
   "metadata": {},
   "outputs": [
    {
     "name": "stdout",
     "output_type": "stream",
     "text": [
      "('movie',)\n",
      "None\n"
     ]
    }
   ],
   "source": [
    "res = cur.execute(\"SELECT name FROM sqlite_master\")      # Selección de la tabla creada\n",
    "print(res.fetchone())                                    # Confirmación\n",
    "\n",
    "res = cur.execute(\"SELECT name FROM sqlite_master WHERE name='space'\") # Selección de la tabla nombrada \"space\", no exite\n",
    "print(res.fetchone())"
   ]
  },
  {
   "cell_type": "code",
   "execution_count": 3,
   "id": "38aa1ab7-5fed-43db-8d73-4ba2054f9d3d",
   "metadata": {},
   "outputs": [],
   "source": [
    "cur.execute(\"\"\"\n",
    "    INSERT INTO movie VALUES\n",
    "        ('Monty Python and the Holy Grail', 1975, 8.2),\n",
    "        ('And Now for Something Completely Different', 1971, 7.5)\n",
    "\"\"\")  # Agregando datos a la tabla.\n",
    "con.commit() # Commit de la modificación a la tabla"
   ]
  },
  {
   "cell_type": "code",
   "execution_count": 4,
   "id": "8dc5ca93-0013-4aea-a177-bf83dbb3659a",
   "metadata": {},
   "outputs": [
    {
     "name": "stdout",
     "output_type": "stream",
     "text": [
      "[(8.2,), (7.5,), (7.9,), (7.5,), (8.0,), (8.2,), (7.5,), (7.9,), (7.5,), (8.0,), (8.2,), (7.5,)]\n"
     ]
    }
   ],
   "source": [
    "res = cur.execute(\"SELECT score from movie\") # Selección de la columna \"score\" de la tabla \"movie\"\n",
    "print(res.fetchall())                        # Imprime los valores en la columna \"score\" "
   ]
  },
  {
   "cell_type": "code",
   "execution_count": 5,
   "id": "132d6e2c-b73a-4d4f-8a92-da26daf512d4",
   "metadata": {},
   "outputs": [],
   "source": [
    "data = [\n",
    "    (\"Monty Python Live at the Hollywood Bowl\", 1982, 7.9),\n",
    "    (\"Monty Python's The Meaning of Life\", 1983, 7.5),\n",
    "    (\"Monty Python's Life of Brian\", 1979, 8.0),\n",
    "]      # Agregando datos a tabla\n",
    "cur.executemany(\"INSERT INTO movie VALUES(?, ?, ?)\", data) # Agregando valores de \"data\" a la tabla en el orden facilitado\n",
    "con.commit()  # Remember to commit the transaction after executing INSERT."
   ]
  },
  {
   "cell_type": "code",
   "execution_count": 6,
   "id": "872c3ef4-1347-49ad-b146-a858afea7805",
   "metadata": {},
   "outputs": [
    {
     "name": "stdout",
     "output_type": "stream",
     "text": [
      "(1971, 'And Now for Something Completely Different')\n",
      "(1971, 'And Now for Something Completely Different')\n",
      "(1971, 'And Now for Something Completely Different')\n",
      "(1975, 'Monty Python and the Holy Grail')\n",
      "(1975, 'Monty Python and the Holy Grail')\n",
      "(1975, 'Monty Python and the Holy Grail')\n",
      "(1979, \"Monty Python's Life of Brian\")\n",
      "(1979, \"Monty Python's Life of Brian\")\n",
      "(1979, \"Monty Python's Life of Brian\")\n",
      "(1982, 'Monty Python Live at the Hollywood Bowl')\n",
      "(1982, 'Monty Python Live at the Hollywood Bowl')\n",
      "(1982, 'Monty Python Live at the Hollywood Bowl')\n",
      "(1983, \"Monty Python's The Meaning of Life\")\n",
      "(1983, \"Monty Python's The Meaning of Life\")\n",
      "(1983, \"Monty Python's The Meaning of Life\")\n"
     ]
    }
   ],
   "source": [
    "for row in cur.execute(\"SELECT year, title FROM movie ORDER BY year\"): # Selección del año y titulo del dato en la tabla, ordenados por año\n",
    "    print(row)"
   ]
  },
  {
   "cell_type": "code",
   "execution_count": 7,
   "id": "7f1fb833-3324-4eba-86e0-70a1cc4f5c83",
   "metadata": {},
   "outputs": [
    {
     "name": "stdout",
     "output_type": "stream",
     "text": [
      "The highest scoring Monty Python movie is 'Monty Python and the Holy Grail', released in 1975\n"
     ]
    }
   ],
   "source": [
    "con.close()                                  # Desconexión a la tabla\n",
    "new_cor = sqlite3.connect(\"tutorial.db\")     # Nueva conexión con la base de datos anterior\n",
    "new_cur = new_cor.cursor()                   # Nuevo cursor de la base de datos\n",
    "res = new_cur.execute(\"SELECT title, year FROM movie ORDER BY score DESC\")  # Selección de titulo y año ordenados por \"score\"\n",
    "title, year = res.fetchone()                 # Extracción de los valores en \"res\"\n",
    "print(f'The highest scoring Monty Python movie is {title!r}, released in {year}')  # Impresión del resultado adquirido"
   ]
  },
  {
   "cell_type": "markdown",
   "id": "f51a6a99-f756-4a14-a3d6-7a977970d790",
   "metadata": {},
   "source": [
    "## Referencias\n",
    "### Problema 1\n",
    "- https://ayudaleyprotecciondatos.es/bases-de-datos/sql/\n",
    "- https://www.ilimit.com/blog/base-de-datos-sql-nosql/\n",
    "- https://www.geeksforgeeks.org/sql-vs-nosql-which-one-is-better-to-use/\n",
    "- **Datacamp** *SQL Commands Glossary—An Overview of 25 Most Popular SQL Commands* (Jul 2022)\n",
    "\n",
    "### Problema 2\n",
    "- https://docs.python.org/3/library/sqlite3.html#sqlite3-tutorial"
   ]
  }
 ],
 "metadata": {
  "kernelspec": {
   "display_name": "Python 3 (ipykernel)",
   "language": "python",
   "name": "python3"
  },
  "language_info": {
   "codemirror_mode": {
    "name": "ipython",
    "version": 3
   },
   "file_extension": ".py",
   "mimetype": "text/x-python",
   "name": "python",
   "nbconvert_exporter": "python",
   "pygments_lexer": "ipython3",
   "version": "3.8.16"
  }
 },
 "nbformat": 4,
 "nbformat_minor": 5
}
